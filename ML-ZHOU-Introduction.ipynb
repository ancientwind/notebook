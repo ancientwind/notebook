{
 "cells": [
  {
   "attachments": {},
   "cell_type": "markdown",
   "metadata": {},
   "source": [
    "# 基本概念\n",
    "\n",
    "## 学习的分类\n",
    "\n",
    "- 监督型\n",
    "    Regression: 预测结果是连续值\n",
    "    Classification: 二分类或多分类\n",
    "- 非监督型\n",
    "    Clustering\n",
    "    深度学习\n",
    "    增强学习\n",
    "\n",
    "## 样本\n",
    "- Training Data\n",
    "- Validation Data: 可以是training data中取出的一部分\n",
    "- Testing Data\n",
    "\n",
    "## 模型评估和选择\n",
    "\n",
    "- 错误率（error rate）: E = a/m, a:分类错误的样本， m:样本总数\n",
    "- 精度（accuracy）: 1 - E\n",
    "- 在训练集上的误差叫“training error”或“empirical error”;在新样本上的误差叫\"generalization error\"\n",
    "- 过拟合（overfitting）：学习器把训练样本学得“太好”，很可能把训练样本自身的一些特点当作了潜在样本都会具有的一般特质，这样就会导致泛化能力下降。\n",
    "- 欠拟合（underfitting）：对训练样本的一般性质尚未学好。\n",
    "\n",
    "### 评估法\n",
    "\n",
    "如何从数据集D中产生训练集S和测试集T：\n",
    "\n",
    "- 留出法：将D划分为互斥的两个集合\n",
    "    \n",
    "- 交叉验证法（cross validation）\n",
    "    1. 将D划分为k个大小相似的互斥子集，每个子集都尽可能保持数据分布的一致性（k-fold cross validation）\n",
    "    2. 每次用k-1个子集作为训练集，剩下的那个作为测试集\n",
    "    3. 重复进行k次训练\n",
    "    \n",
    "- 自助法（bootstrapping）\n",
    "\n",
    "调参（parameter tuning）\n",
    "\n",
    "### 性能度量\n",
    "\n",
    "- 性能度量（performance measure）：衡量模型泛化能力的评价标准\n",
    "    * 模型的“好坏”是相对的，不仅取决于算法和数据，还决定于任务需求。\n",
    "    * 对回归任务的性能度量\n",
    "        均方误差（mean squard error）\n",
    "        [meansqurerr](meansqurerr.png)\n",
    "        [meansqurerr general](meansqurerr_general.png)"
   ]
  }
 ],
 "metadata": {
  "kernelspec": {
   "display_name": "Python 3",
   "language": "python",
   "name": "python3"
  },
  "language_info": {
   "codemirror_mode": {
    "name": "ipython",
    "version": 3
   },
   "file_extension": ".py",
   "mimetype": "text/x-python",
   "name": "python",
   "nbconvert_exporter": "python",
   "pygments_lexer": "ipython3",
   "version": "3.5.1"
  }
 },
 "nbformat": 4,
 "nbformat_minor": 2
}
